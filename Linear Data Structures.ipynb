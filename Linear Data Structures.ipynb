{
 "cells": [
  {
   "cell_type": "markdown",
   "id": "9c82fa79",
   "metadata": {},
   "source": [
    "## Q1. Write a program to find all pairs of an integer array whose sum is equal to a given number?\n",
    "\n",
    "\n"
   ]
  },
  {
   "cell_type": "code",
   "execution_count": 1,
   "id": "e6b93d62",
   "metadata": {},
   "outputs": [
    {
     "name": "stdout",
     "output_type": "stream",
     "text": [
      "(1, 2) \n",
      "The no of pairs are =  1\n"
     ]
    }
   ],
   "source": [
    "# Method - 1\n",
    "\n",
    "def pair(array, target):\n",
    "    c = 0\n",
    "    \n",
    "    for i in range(len(array)-1):\n",
    "        for j in range(i+1,len(array)):\n",
    "            \n",
    "            if array[i] + array[j] == target:\n",
    "                c += 1\n",
    "                print((array[i],array[j]),end=' ')\n",
    "    if c != 0:        \n",
    "        print('\\nThe no of pairs are = ',c)\n",
    "    else:\n",
    "        print('There are no such pairs  ')\n",
    "    \n",
    "array = [1,2,3,4]\n",
    "target =  3\n",
    "pair(array,target)"
   ]
  },
  {
   "cell_type": "code",
   "execution_count": 3,
   "id": "54701aaf",
   "metadata": {},
   "outputs": [
    {
     "name": "stdout",
     "output_type": "stream",
     "text": [
      "(1, 5)\n",
      "(2, 4)\n",
      "The number of such pairs are =  2\n"
     ]
    }
   ],
   "source": [
    "# Method - 2\n",
    "\n",
    "array = [1,2,3,4,5]\n",
    "target = 6\n",
    "m = 0\n",
    "for a in range(len(array)):\n",
    "    for b in range(a+1,len(array)):\n",
    "        if array[a]+array[b] == target:\n",
    "            m += 1\n",
    "            print(((array[a],array[b])))\n",
    "if m != 0:\n",
    "    print('The number of such pairs are = ',m)\n",
    "else:\n",
    "    print('There are no such pairs ')"
   ]
  },
  {
   "cell_type": "code",
   "execution_count": 4,
   "id": "c14923bc",
   "metadata": {},
   "outputs": [
    {
     "name": "stdout",
     "output_type": "stream",
     "text": [
      "Enter the list items by space seperated \n",
      "2 4 6 8 10\n",
      "Enter the target number \n",
      "6\n",
      "(2, 4) \n",
      "The no of pairs are =  1\n"
     ]
    }
   ],
   "source": [
    "# MEthod - 3\n",
    "\n",
    "def pair(array, target):\n",
    "    c = 0\n",
    "    \n",
    "    for i in range(len(array)-1):\n",
    "        for j in range(i+1,len(array)):\n",
    "            \n",
    "            if array[i] + array[j] == target:\n",
    "                c += 1\n",
    "                print((array[i],array[j]),end=' ')\n",
    "    if c != 0:        \n",
    "        print('\\nThe no of pairs are = ',c)\n",
    "    else:\n",
    "        print('There are no such pairs  ')\n",
    "    \n",
    "array = ([int(i) for i in input('Enter the list items by space seperated \\n').split()])\n",
    "target =  int(input('Enter the target number \\n'))\n",
    "pair(array,target)"
   ]
  },
  {
   "cell_type": "markdown",
   "id": "33daca97",
   "metadata": {},
   "source": [
    "## Q2. Write a program to reverse an array in place? In place means you cannot create a new array. You have to update the original array.\n",
    "\n"
   ]
  },
  {
   "cell_type": "code",
   "execution_count": 6,
   "id": "d9f58ac2",
   "metadata": {},
   "outputs": [
    {
     "data": {
      "text/plain": [
       "[1, 2, 3, 4, 5]"
      ]
     },
     "execution_count": 6,
     "metadata": {},
     "output_type": "execute_result"
    }
   ],
   "source": [
    "# Method - 1\n",
    "\n",
    "array1 = [5,4,3,2,1]\n",
    "array1.reverse()\n",
    "array1\n"
   ]
  },
  {
   "cell_type": "code",
   "execution_count": 8,
   "id": "c300c0c5",
   "metadata": {},
   "outputs": [
    {
     "name": "stdout",
     "output_type": "stream",
     "text": [
      "ellapu\n"
     ]
    },
    {
     "data": {
      "text/plain": [
       "'upalle'"
      ]
     },
     "execution_count": 8,
     "metadata": {},
     "output_type": "execute_result"
    }
   ],
   "source": [
    "# Method - 2\n",
    "\n",
    "def reverse_array(array):\n",
    "    array = array[::-1]\n",
    "    return array\n",
    "array = input()\n",
    "reverse_array(array)\n"
   ]
  },
  {
   "cell_type": "markdown",
   "id": "84ef8731",
   "metadata": {},
   "source": [
    "## Q3. Write a program to check if two strings are a rotation of each other?\n",
    "\n"
   ]
  },
  {
   "cell_type": "code",
   "execution_count": 9,
   "id": "ec62f391",
   "metadata": {},
   "outputs": [
    {
     "name": "stdout",
     "output_type": "stream",
     "text": [
      "yes\n"
     ]
    }
   ],
   "source": [
    "# Method - 1\n",
    "\n",
    "str1 = 'hello'\n",
    "str2 = 'llohe'\n",
    "temp = ''\n",
    "if len(str1) != len(str2):\n",
    "    print('no')\n",
    "else:\n",
    "    temp = str1+str1\n",
    "    if str2 in temp:\n",
    "        print('yes')\n",
    "    else:\n",
    "        print('no')\n"
   ]
  },
  {
   "cell_type": "code",
   "execution_count": 11,
   "id": "0a1875c3",
   "metadata": {},
   "outputs": [
    {
     "name": "stdout",
     "output_type": "stream",
     "text": [
      "enp\n",
      "npe\n"
     ]
    },
    {
     "data": {
      "text/plain": [
       "'yes'"
      ]
     },
     "execution_count": 11,
     "metadata": {},
     "output_type": "execute_result"
    }
   ],
   "source": [
    "# Method - 2\n",
    "\n",
    "def rotation(str5,str6):\n",
    "    temp = ''\n",
    "    if len(str5) != len(str6):\n",
    "        return 'no'\n",
    "    else:\n",
    "        temp = str5+str5\n",
    "        temp1 = str6+str6\n",
    "        if str6 in temp or str5 in temp1 :\n",
    "            return 'yes'\n",
    "        else:\n",
    "            return 'no'\n",
    "str5 = input()\n",
    "str6 = input()\n",
    "rotation(str5,str6)"
   ]
  },
  {
   "cell_type": "markdown",
   "id": "8b757cf2",
   "metadata": {},
   "source": [
    "## Q4. Write a program to print the first non-repeated character from a string?\n",
    "\n"
   ]
  },
  {
   "cell_type": "code",
   "execution_count": 13,
   "id": "023ec63a",
   "metadata": {},
   "outputs": [
    {
     "name": "stdout",
     "output_type": "stream",
     "text": [
      "e\n"
     ]
    }
   ],
   "source": [
    "# Method - 1\n",
    "\n",
    "from collections import Counter\n",
    "array = 'ellapunagaprasad'\n",
    "a = Counter(array)\n",
    "a\n",
    "for i in array:\n",
    "    if a[i] == 1:\n",
    "        print(i)\n",
    "        break"
   ]
  },
  {
   "cell_type": "markdown",
   "id": "e2880e9a",
   "metadata": {},
   "source": [
    "## Q5. Read about the Tower of Hanoi algorithm. Write a program to implement it.\n",
    "\n"
   ]
  },
  {
   "cell_type": "code",
   "execution_count": null,
   "id": "5545d9cc",
   "metadata": {},
   "outputs": [],
   "source": [
    "def TowerOfHanoi(n , from_rod, to_rod, aux_rod):\n",
    "    if n == 0:\n",
    "        return\n",
    "    TowerOfHanoi(n-1, from_rod, aux_rod, to_rod)\n",
    "    print(\"Move disk\",n,\"from rod\",from_rod,\"to rod\",to_rod)\n",
    "    TowerOfHanoi(n-1, aux_rod, to_rod, from_rod)\n",
    "         \n",
    "# Driver code\n",
    "n = 4\n",
    "TowerOfHanoi(n, 'A', 'C', 'B')"
   ]
  },
  {
   "cell_type": "markdown",
   "id": "2dff735f",
   "metadata": {},
   "source": [
    "## Q6. Read about infix, prefix, and postfix expressions. Write a program to convert postfix to prefix expression.\n",
    "\n"
   ]
  },
  {
   "cell_type": "code",
   "execution_count": 14,
   "id": "2211b817",
   "metadata": {},
   "outputs": [
    {
     "name": "stdout",
     "output_type": "stream",
     "text": [
      "ABC/-AK/L-*\n"
     ]
    }
   ],
   "source": [
    "s = \"*-A/BC-/AKL\"\n",
    "stack = []\n",
    "operators = set(['+', '-', '*', '/', '^'])\n",
    "s = s[::-1]\n",
    "for i in s:\n",
    "    if i in operators:\n",
    "        a = stack.pop()\n",
    "        b = stack.pop()\n",
    "        temp = a+b+i\n",
    "        stack.append(temp)\n",
    "    else:\n",
    "        stack.append(i)\n",
    "print(*stack)"
   ]
  },
  {
   "cell_type": "markdown",
   "id": "7a3a516f",
   "metadata": {},
   "source": [
    "## Q7. Write a program to convert prefix expression to infix expression.\n",
    "\n"
   ]
  },
  {
   "cell_type": "code",
   "execution_count": 17,
   "id": "9ad8c63b",
   "metadata": {},
   "outputs": [
    {
     "name": "stdout",
     "output_type": "stream",
     "text": [
      "((A-(B/C))*((A/K)-L))\n"
     ]
    }
   ],
   "source": [
    "def prefix_To_Infix(prefix):\n",
    "    stack = []\n",
    "    i = len(prefix) - 1\n",
    "    while i >= 0:\n",
    "        if not isOperator(prefix[i]):\n",
    "            stack.append(prefix[i])\n",
    "            i -= 1\n",
    "        else:\n",
    "            str = \"(\" + stack.pop() + prefix[i] + stack.pop() + \")\"\n",
    "            stack.append(str)\n",
    "            i -= 1\n",
    "     \n",
    "    return stack.pop()\n",
    "\n",
    "def isOperator(c):\n",
    "    if c == \"*\" or c == \"+\" or c == \"-\" or c == \"/\" or c == \"^\" or c == \"(\" or c == \")\":\n",
    "        return True\n",
    "    else:\n",
    "        return False\n",
    "\n",
    "\n",
    "str = \"*-A/BC-/AKL\"\n",
    "print(prefix_To_Infix(str))\n",
    "            "
   ]
  },
  {
   "cell_type": "markdown",
   "id": "4d92e0dd",
   "metadata": {},
   "source": [
    "## Q8. Write a program to check if all the brackets are closed in a given code snippet.\n",
    "\n"
   ]
  },
  {
   "cell_type": "code",
   "execution_count": 23,
   "id": "766d008f",
   "metadata": {},
   "outputs": [
    {
     "name": "stdout",
     "output_type": "stream",
     "text": [
      "Balanced\n"
     ]
    }
   ],
   "source": [
    "def Balanced(expr):\n",
    "    stack = []\n",
    "    for char in expr:\n",
    "        if char in [\"(\", \"{\", \"[\"]:\n",
    "            stack.append(char)\n",
    "        else:\n",
    "            if not stack:\n",
    "                return False\n",
    "            current_char = stack.pop()\n",
    "            if current_char == '(':\n",
    "                if char != \")\":\n",
    "                    return False\n",
    "            if current_char == '{':\n",
    "                if char != \"}\":\n",
    "                    return False\n",
    "            if current_char == '[':\n",
    "                if char != \"]\":\n",
    "                    return False\n",
    "                \n",
    "    if stack:\n",
    "        return False\n",
    "    return True\n",
    "expr = \"{()}[]\"\n",
    "if Balanced(expr):\n",
    "        print(\"Balanced\")\n",
    "else:\n",
    "    print(\"Not Balanced\")"
   ]
  },
  {
   "cell_type": "markdown",
   "id": "c01a3842",
   "metadata": {},
   "source": [
    "## Q9. Write a program to reverse a stack.\n",
    "\n"
   ]
  },
  {
   "cell_type": "code",
   "execution_count": 28,
   "id": "15dd6257",
   "metadata": {},
   "outputs": [
    {
     "name": "stdout",
     "output_type": "stream",
     "text": [
      "Original Stack \n",
      "1 2 3 4 \n",
      "Reversed Stack \n",
      "4 3 2 1 \n"
     ]
    }
   ],
   "source": [
    "def insertAtBottom(stack, item):\n",
    "    if isEmpty(stack):\n",
    "        push(stack, item)\n",
    "    else:\n",
    "        temp = pop(stack)\n",
    "        insertAtBottom(stack, item)\n",
    "        push(stack, temp)\n",
    "        \n",
    "def reverse(stack):\n",
    "    if not isEmpty(stack):\n",
    "        temp = pop(stack)\n",
    "        reverse(stack)\n",
    "        insertAtBottom(stack, temp)\n",
    "        \n",
    "def createStack():\n",
    "    stack = []\n",
    "    return stack\n",
    "\n",
    "def isEmpty( stack ):\n",
    "    return len(stack) == 0\n",
    "\n",
    "def push( stack, item ):\n",
    "    stack.append( item )\n",
    "    \n",
    "def pop( stack ):\n",
    "    if(isEmpty( stack )):\n",
    "        print(\"Stack Underflow \")\n",
    "        exit(1)\n",
    " \n",
    "    return stack.pop()\n",
    "\n",
    "def prints(stack):\n",
    "    for i in range(len(stack)-1, -1, -1):\n",
    "        print(stack[i], end = ' ')\n",
    "    print()\n",
    "    \n",
    "    \n",
    "stack = createStack()\n",
    "push( stack, (4) )\n",
    "push( stack, (3) )\n",
    "push( stack, (2) )\n",
    "push( stack, (1) )\n",
    "print(\"Original Stack \")\n",
    "prints(stack)\n",
    "\n",
    "reverse(stack)\n",
    " \n",
    "print(\"Reversed Stack \")\n",
    "prints(stack)"
   ]
  },
  {
   "cell_type": "markdown",
   "id": "0968b48f",
   "metadata": {},
   "source": [
    "## Q10. Write a program to find the smallest number using a stack.\n",
    "\n"
   ]
  },
  {
   "cell_type": "code",
   "execution_count": 30,
   "id": "9472525c",
   "metadata": {},
   "outputs": [
    {
     "name": "stdout",
     "output_type": "stream",
     "text": [
      "6\n",
      "6\n",
      "5\n",
      "3\n",
      "5\n",
      "6\n"
     ]
    }
   ],
   "source": [
    "# Method - 1\n",
    "\n",
    "from collections import deque\n",
    " \n",
    " \n",
    "class MinStack:\n",
    "    def __init__(self):\n",
    "        self.s = deque()\n",
    "        self.min = None\n",
    " \n",
    "    def push(self, val):\n",
    "        if not self.s:\n",
    "            self.s.append(val)\n",
    "            self.min = val\n",
    "        elif val > self.min:\n",
    "            self.s.append(val)\n",
    "        else:\n",
    "            self.s.append(2*val - self.min)\n",
    "            self.min = val\n",
    " \n",
    "    def pop(self):\n",
    "        if not self.s:\n",
    "            self.print('Stack underflow!!')\n",
    "            exit(-1)\n",
    "        top = self.s[-1]\n",
    "        if top < self.min:\n",
    "            self.min = 2*self.min - top\n",
    "        self.s.pop()\n",
    " \n",
    "    def getMin(self):\n",
    "        return self.min\n",
    " \n",
    " \n",
    "if __name__ == '__main__':\n",
    " \n",
    "    s = MinStack()\n",
    " \n",
    "    s.push(6)\n",
    "    print(s.getMin())\n",
    " \n",
    "    s.push(7)\n",
    "    print(s.getMin())\n",
    " \n",
    "    s.push(5)\n",
    "    print(s.getMin())\n",
    " \n",
    "    s.push(3)\n",
    "    print(s.getMin())\n",
    " \n",
    "    s.pop()\n",
    "    print(s.getMin())\n",
    " \n",
    "    s.pop()\n",
    "    print(s.getMin())"
   ]
  },
  {
   "cell_type": "code",
   "execution_count": 29,
   "id": "b89f52a2",
   "metadata": {},
   "outputs": [
    {
     "name": "stdout",
     "output_type": "stream",
     "text": [
      "Number Inserted: 3\n",
      "Number Inserted: 5\n",
      "Minimum Element in the stack is: 3\n",
      "Number Inserted: 2\n",
      "Number Inserted: 1\n",
      "Minimum Element in the stack is: 1\n",
      "Top Most Element Removed :1 \n",
      "Minimum Element in the stack is: 2\n",
      "Top Most Element Removed :2 \n",
      "Top Most Element is: 5\n"
     ]
    }
   ],
   "source": [
    "# Method - 2\n",
    "\n",
    "class Node:\n",
    "    def __init__(self, value):\n",
    "        self.value = value\n",
    "        self.next = None\n",
    "        \n",
    "    def __str__(self):\n",
    "        return \"Node({})\".format(self.value)\n",
    "    \n",
    "    __repr__ = __str__\n",
    "    \n",
    "class Stack:\n",
    "    def __init__(self):\n",
    "        self.top = None\n",
    "        self.count = 0\n",
    "        self.minimum = None\n",
    "        \n",
    "    def __str__(self):\n",
    "        temp = self.top\n",
    "        out = []\n",
    "        while temp:\n",
    "            out.append(str(temp.value))\n",
    "            temp = temp.next\n",
    "        out = '\\n'.join(out)\n",
    "        return ('Top {} \\n\\nStack :\\n{}'.format(self.top,out))\n",
    "    \n",
    "    __repr__=__str__\n",
    "    \n",
    "    def getMin(self):\n",
    "        if self.top is None:\n",
    "            return \"Stack is empty\"\n",
    "        else:\n",
    "            print(\"Minimum Element in the stack is: {}\" .format(self.minimum))\n",
    "            \n",
    "    def isEmpty(self):\n",
    "        if self.top == None:\n",
    "            return True\n",
    "        else:\n",
    "            return False\n",
    "        \n",
    "    def __len__(self):\n",
    "        self.count = 0\n",
    "        tempNode = self.top\n",
    "        while tempNode:\n",
    "            tempNode = tempNode.next\n",
    "            self.count+=1\n",
    "        return self.count\n",
    "    \n",
    "    def peek(self):\n",
    "        if self.top is None:\n",
    "            print (\"Stack is empty\")\n",
    "        else:\n",
    "            if self.top.value < self.minimum:\n",
    "                print(\"Top Most Element is: {}\" .format(self.minimum))\n",
    "            else:\n",
    "                print(\"Top Most Element is: {}\" .format(self.top.value))\n",
    "                \n",
    "    def push(self,value):\n",
    "        if self.top is None:\n",
    "            self.top = Node(value)\n",
    "            self.minimum = value\n",
    "         \n",
    "        elif value < self.minimum:\n",
    "            temp = (2 * value) - self.minimum\n",
    "            new_node = Node(temp)\n",
    "            new_node.next = self.top\n",
    "            self.top = new_node\n",
    "            self.minimum = value\n",
    "        else:\n",
    "            new_node = Node(value)\n",
    "            new_node.next = self.top\n",
    "            self.top = new_node\n",
    "        print(\"Number Inserted: {}\" .format(value))\n",
    "        \n",
    "        \n",
    "    def pop(self):\n",
    "        if self.top is None:\n",
    "            print( \"Stack is empty\")\n",
    "        else:\n",
    "            removedNode = self.top.value\n",
    "            self.top = self.top.next\n",
    "            if removedNode < self.minimum:\n",
    "                print (\"Top Most Element Removed :{} \" .format(self.minimum))\n",
    "                self.minimum = ( ( 2 * self.minimum ) - removedNode )\n",
    "            else:\n",
    "                print (\"Top Most Element Removed : {}\" .format(removedNode))\n",
    "                \n",
    "stack = Stack()\n",
    " \n",
    "stack.push(3)\n",
    "stack.push(5)\n",
    "stack.getMin()\n",
    "stack.push(2)\n",
    "stack.push(1)\n",
    "stack.getMin()    \n",
    "stack.pop()\n",
    "stack.getMin()\n",
    "stack.pop()\n",
    "stack.peek()\n",
    "    \n",
    "    \n",
    "    \n",
    "    \n",
    "    \n",
    "    \n",
    "    \n",
    "    "
   ]
  },
  {
   "cell_type": "code",
   "execution_count": null,
   "id": "e37c7825",
   "metadata": {},
   "outputs": [],
   "source": []
  }
 ],
 "metadata": {
  "kernelspec": {
   "display_name": "Python 3 (ipykernel)",
   "language": "python",
   "name": "python3"
  },
  "language_info": {
   "codemirror_mode": {
    "name": "ipython",
    "version": 3
   },
   "file_extension": ".py",
   "mimetype": "text/x-python",
   "name": "python",
   "nbconvert_exporter": "python",
   "pygments_lexer": "ipython3",
   "version": "3.10.0"
  }
 },
 "nbformat": 4,
 "nbformat_minor": 5
}
